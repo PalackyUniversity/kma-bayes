{
 "cells": [
  {
   "cell_type": "markdown",
   "metadata": {},
   "source": [
    "# Crying baby with Importance and Rejection sampling\n",
    "\n",
    "## Importing libraries"
   ]
  },
  {
   "cell_type": "code",
   "execution_count": 1,
   "metadata": {},
   "outputs": [],
   "source": [
    "import numpy as np"
   ]
  },
  {
   "cell_type": "markdown",
   "metadata": {},
   "source": [
    "## What state is the baby in?\n",
    "\n",
    "##### X = (H, W, S, C)\n",
    "H = 0 / 1, is it hungry?\n",
    "<br>\n",
    "W = 0 / 1, is it wet?\n",
    "<br>\n",
    "S = 0 / 1, does it smell?\n",
    "<br>\n",
    "C = 0 / 1, is it crying?\n",
    "\n",
    "For example X = (1, 0, 1, 0) is a state of a hungry smelly baby"
   ]
  },
  {
   "cell_type": "markdown",
   "metadata": {},
   "source": [
    "## Probabilities and distribution p(X)\n",
    "\n",
    "##### Probability of a state X = (H, W, S, C)\n",
    "p(X) = p(H, W, S, C) = p(H) * p(W) * p(S | W) * p(C | H,W)\n",
    "\n",
    "Defining probabalities of individual realizations\n",
    "- in reality, we might not have access to values\n",
    "- what we need though, is access to calculate for each state X its probability p(X), even if only as a black box "
   ]
  },
  {
   "cell_type": "code",
   "execution_count": 2,
   "metadata": {},
   "outputs": [],
   "source": [
    "prob_H = 0.3\n",
    "#Probability of a hungry baby (H=1)\n",
    "\n",
    "prob_W = 0.4\n",
    "#Probability of a wet baby (W=1)\n",
    "\n",
    "prob_S = np.array([0.05, 0.7])\n",
    "#Conditional probabilities of smelly baby (S=1)\n",
    "\n",
    "prob_C = np.array([[0.2, 0.85], \n",
    "                   [0.8, 0.98]])\n",
    "#Conditional probabilities of crying baby (C=1)"
   ]
  },
  {
   "cell_type": "markdown",
   "metadata": {},
   "source": [
    "$$ prob\\_S = \\left( \\begin{array}{cc} p(S=1 | W=0) & p(S=1 | W=1) \\end{array}\\right) $$\n",
    "\n",
    "$$ prob\\_C = \\left( \\begin{array}{cc} p(C=1 | H=0,W=0) & p(C=1 | H=0,W=1) \\\\ p(C=1 | H=1,W=0) & p(C=1 | H=1,W=1) \\end{array}\\right) $$"
   ]
  },
  {
   "cell_type": "code",
   "execution_count": 3,
   "metadata": {},
   "outputs": [],
   "source": [
    "def probability_p(X):\n",
    "    X = np.transpose(np.array(X))\n",
    "    H_array = X[0]\n",
    "    W_array = X[1]\n",
    "    S_array = X[2]\n",
    "    C_array = X[3]\n",
    "    \n",
    "    p_H = np.array([1-prob_H, prob_H])[H_array]\n",
    "    p_W = np.array([1-prob_W, prob_W])[W_array]\n",
    "    p_S = np.array([1-prob_S, prob_S])[S_array, W_array]\n",
    "    p_C = np.array([1-prob_C, prob_C])[C_array, H_array, W_array]\n",
    "    \n",
    "    probability = p_H * p_W * p_S * p_C\n",
    "    return probability\n",
    "#Returns a probabilities p(X) for the given X = [[X_1], [X_2], [X_3], ... , [X_N]], where [X_i] = [H_i, W_i, S_i, C_i]"
   ]
  },
  {
   "cell_type": "markdown",
   "metadata": {},
   "source": [
    "## Importance sampling\n",
    "\n",
    "##### 1. Generate samples from an auxiliary distribution g\n",
    "\n",
    "It should be easy to samples from g\n",
    "<br>\n",
    "=> let g be fair coin toss for each H, W, S, C => each state X_i has probability g(X_i) = 1/16"
   ]
  },
  {
   "cell_type": "code",
   "execution_count": 5,
   "metadata": {},
   "outputs": [
    {
     "name": "stdout",
     "output_type": "stream",
     "text": [
      "Examples from the 100000 generated samples:\n",
      "X_1 = [0 0 0 1] ; X_2 = [1 0 0 1] ; X_3 = [1 1 0 1] ; X_4 = [0 0 0 0]\n"
     ]
    }
   ],
   "source": [
    "N = 100000    #Number of samples to be generated from g -> X_1, X_2, X_3, ... , X_N\n",
    "\n",
    "IS_samples = np.random.randint(0, 2, (N, 4))\n",
    "#Generated samples\n",
    "\n",
    "print(\"Examples from the\", N, \"generated samples:\")\n",
    "print(\"X_1 =\", IS_samples[0], \"; X_2 =\", IS_samples[1], \"; X_3 =\", IS_samples[2], \"; X_4 =\", IS_samples[3])"
   ]
  },
  {
   "cell_type": "markdown",
   "metadata": {},
   "source": [
    "##### 2. Account for under/over representations by weights\n",
    "\n",
    "$$ \\omega_i = \\frac{p(X_i)}{g(X_i)} $$"
   ]
  },
  {
   "cell_type": "code",
   "execution_count": 6,
   "metadata": {},
   "outputs": [],
   "source": [
    "weights = probability_p(IS_samples) / (np.zeros(IS_samples.shape[0]) + 1/16)\n",
    "#Array containing weight for each sample"
   ]
  },
  {
   "cell_type": "markdown",
   "metadata": {},
   "source": [
    "##### 3. Estimate <.> of your interest\n",
    "\n",
    "$$ <\\phi> = \\frac{\\sum{\\omega_i \\phi(X_i)}}{\\sum{\\omega_i}} $$\n",
    "\n",
    "Lets find out approximately how many nights that little devil is hungry / is wet / smells / spends crying"
   ]
  },
  {
   "cell_type": "code",
   "execution_count": 7,
   "metadata": {},
   "outputs": [],
   "source": [
    "def IS_phi_function(X):\n",
    "    #Define whatever function phi you want to\n",
    "    output = X\n",
    "    return output\n",
    "\n",
    "IS_phi = IS_phi_function(IS_samples)"
   ]
  },
  {
   "cell_type": "code",
   "execution_count": 8,
   "metadata": {},
   "outputs": [
    {
     "name": "stdout",
     "output_type": "stream",
     "text": [
      "The baby is hungry approximately 30.07 % of the nights.\n",
      "The baby is wet approximately 39.99 % of the nights.\n",
      "The baby smells approximately 31.07 % of the nights.\n",
      "The baby cries approximately 58.62 % of the nights.\n"
     ]
    }
   ],
   "source": [
    "hungry = (np.sum(weights * IS_phi[:,0]) / np.sum(weights)) * 100\n",
    "wet = (np.sum(weights * IS_phi[:,1]) / np.sum(weights)) * 100\n",
    "smells = (np.sum(weights * IS_phi[:,2]) / np.sum(weights)) * 100\n",
    "cries = (np.sum(weights * IS_phi[:,3]) / np.sum(weights)) * 100\n",
    "\n",
    "print(\"The baby is hungry approximately\", np.round(hungry,2), \"% of the nights.\")\n",
    "print(\"The baby is wet approximately\", np.round(wet,2), \"% of the nights.\")\n",
    "print(\"The baby smells approximately\", np.round(smells,2), \"% of the nights.\")\n",
    "print(\"The baby cries approximately\", np.round(cries,2), \"% of the nights.\")"
   ]
  },
  {
   "cell_type": "markdown",
   "metadata": {},
   "source": [
    "## Rejection sampling\n",
    "\n",
    "##### 1. Generate samples X_1, X_2, X_3, ... , X_N\n",
    "\n",
    "I am gonna do that the same way as for Importance sampling"
   ]
  },
  {
   "cell_type": "code",
   "execution_count": 14,
   "metadata": {},
   "outputs": [
    {
     "name": "stdout",
     "output_type": "stream",
     "text": [
      "Examples from the 10000000 generated samples:\n",
      "X_1 = [0 0 0 1] ; X_2 = [1 0 0 1] ; X_3 = [1 1 0 1] ; X_4 = [0 0 0 0]\n"
     ]
    }
   ],
   "source": [
    "N = 10000000    #Number of samples to be generated\n",
    "\n",
    "RS_samples = np.random.randint(0, 2, (N, 4))\n",
    "#Generated samples\n",
    "\n",
    "print(\"Examples from the\", N, \"generated samples:\")\n",
    "print(\"X_1 =\", IS_samples[0], \"; X_2 =\", IS_samples[1], \"; X_3 =\", IS_samples[2], \"; X_4 =\", IS_samples[3])"
   ]
  },
  {
   "cell_type": "markdown",
   "metadata": {
    "tags": []
   },
   "source": [
    "##### 2. Generate u from uniform< 0 , Q(X) >\n",
    "\n",
    "Q(X) > p(X) always and for for X => lets define Q(X) = 1.01\n",
    "<br>\n",
    "Why? Well p(X) can theoreticaly be <0,1> based on what prob_H, prob_W,... we set and I want this to work for all of them"
   ]
  },
  {
   "cell_type": "code",
   "execution_count": 15,
   "metadata": {},
   "outputs": [],
   "source": [
    "u = np.random.uniform(0, 1.01, N)\n",
    "#For each sample its own u is generated"
   ]
  },
  {
   "cell_type": "markdown",
   "metadata": {},
   "source": [
    "##### 3. If - procedure\n",
    "\n",
    "If p(X) > u, we accept X as an sample\n",
    "<br>\n",
    "If p(X) < u, we refuse X as an sample\n",
    "<br>\n",
    "<br>\n",
    "Note: Discord notes \"Sampling 14\" claims it is the other way arround, but I don´t believe that"
   ]
  },
  {
   "cell_type": "code",
   "execution_count": 16,
   "metadata": {},
   "outputs": [
    {
     "name": "stdout",
     "output_type": "stream",
     "text": [
      "Together we kept 618503 out of 10000000 samples. Thats 6.18503 %\n"
     ]
    }
   ],
   "source": [
    "kept_samples = RS_samples[probability_p(RS_samples) > u]\n",
    "print(\"Together we kept\", kept_samples.shape[0], \"out of\", N, \"samples. Thats\", 100*kept_samples.shape[0]/N, \"%\")"
   ]
  },
  {
   "cell_type": "markdown",
   "metadata": {},
   "source": [
    "##### 4. Calculate <.>\n",
    "\n",
    "Once again, lets now calculate the approximate number of night for the baby to be hungry / wet / smelly / crying"
   ]
  },
  {
   "cell_type": "code",
   "execution_count": 17,
   "metadata": {},
   "outputs": [],
   "source": [
    "def RS_phi_function(X):\n",
    "    #Define whatever function phi you want to\n",
    "    output = X\n",
    "    return output\n",
    "\n",
    "RS_phi = RS_phi_function(kept_samples)"
   ]
  },
  {
   "cell_type": "code",
   "execution_count": 18,
   "metadata": {},
   "outputs": [
    {
     "name": "stdout",
     "output_type": "stream",
     "text": [
      "The baby is hungry approximately 30.0 % of the nights.\n",
      "The baby is wet approximately 40.0 % of the nights.\n",
      "The baby smells approximately 31.0 % of the nights.\n",
      "The baby cries approximately 57.99999999999999 % of the nights.\n"
     ]
    }
   ],
   "source": [
    "print(\"The baby is hungry approximately\", 100*np.round(np.mean(RS_phi[:,0]),2), \"% of the nights.\")\n",
    "print(\"The baby is wet approximately\", 100*np.round(np.mean(RS_phi[:,1]),2), \"% of the nights.\")\n",
    "print(\"The baby smells approximately\", 100*np.round(np.mean(RS_phi[:,2]),2), \"% of the nights.\")\n",
    "print(\"The baby cries approximately\", 100*np.round(np.mean(RS_phi[:,3]),2), \"% of the nights.\")"
   ]
  },
  {
   "cell_type": "code",
   "execution_count": null,
   "metadata": {},
   "outputs": [],
   "source": []
  },
  {
   "cell_type": "code",
   "execution_count": null,
   "metadata": {},
   "outputs": [],
   "source": []
  }
 ],
 "metadata": {
  "kernelspec": {
   "display_name": "Python 3",
   "language": "python",
   "name": "python3"
  },
  "language_info": {
   "codemirror_mode": {
    "name": "ipython",
    "version": 3
   },
   "file_extension": ".py",
   "mimetype": "text/x-python",
   "name": "python",
   "nbconvert_exporter": "python",
   "pygments_lexer": "ipython3",
   "version": "3.8.8"
  }
 },
 "nbformat": 4,
 "nbformat_minor": 4
}
